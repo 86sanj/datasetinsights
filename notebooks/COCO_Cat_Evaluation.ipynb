{
 "cells": [
  {
   "cell_type": "markdown",
   "metadata": {},
   "source": [
    "# SynthDet Evaluation\n",
    "\n",
    "In this notebook, we provide the FasterRCNN estimator performance and visualization for predictions on the test split of the [UnityGroceries-Real](https://github.com/Unity-Technologies/SynthDet/blob/master/docs/UnityGroceriesReal.md) data. We support performance metrics (mAP, mAP@IOU50, mAR@100) as well as bounding box predictions rendered on the original image. This would provide a better understanding of the given estimator.\n",
    "\n",
    "<!-- You can use this notebook by the following steps:\n",
    "- Specify the model path. Then, the notebook would load the checkpoints into a `FasterRCNN` estimator. The `FasterRCNN` can provide model predictions.\n",
    "- Provide the model performance metrics.\n",
    "- Can either specify or randomly select some cases for the visualization. -->\n",
    "\n",
    "\n",
    "## Settings\n",
    "\n",
    "- Point `data_root` below where you want to download the dataset. If you run this dataset inside a docker container, make sure you point this path to the directory where the external volume is mounted for data storage. \n",
    "\n",
    "- Specify a pre-trained `checkpoint_file` that you want to use. You can use one of the estimators that we provided. Optionally, you can use estimators you have trained using our pre-compiled Kubeflow pipeline (Please make sure the GCS credential is setup correctly)."
   ]
  },
  {
   "cell_type": "code",
   "execution_count": 1,
   "metadata": {},
   "outputs": [],
   "source": [
    "# Specify data_root\n",
    "data_path = \"/Users/bowen.li/data/coco_cat\"\n",
    "checkpoint_file = \"gs://thea-test/checkpoints/bowen/GNXBzQ0/run6/FasterRCNN.ep5.estimator\""
   ]
  },
  {
   "cell_type": "markdown",
   "metadata": {},
   "source": [
    "## Download UnityGroceries-Real Dataset\n",
    "\n",
    "This cell will download the public UnityGroceries-Real dataset to the location specified by data_path. You only need to run this cell once and assuming the dataset exists for the subsequence of the notebook execution. \n",
    "\n",
    "The [downloader](https://datasetinsights.readthedocs.io/en/latest/datasetinsights.io.html#datasetinsights.io.loader.create_loader) instantiates the dataset downloader after finding it with the source-uri provided."
   ]
  },
  {
   "cell_type": "code",
   "execution_count": 3,
   "metadata": {},
   "outputs": [
    {
     "name": "stderr",
     "output_type": "stream",
     "text": [
      "/Users/bowen.li/miniconda3/envs/bowen/lib/python3.7/site-packages/google/auth/_default.py:69: UserWarning: Your application has authenticated using end user credentials from Google Cloud SDK without a quota project. You might receive a \"quota exceeded\" or \"API not enabled\" error. We recommend you rerun `gcloud auth application-default login` and make sure a quota project is added. Or you can use service accounts instead. For more information about service accounts, see https://cloud.google.com/docs/authentication/\n",
      "  warnings.warn(_CLOUD_SDK_CREDENTIALS_WARNING)\n",
      "/Users/bowen.li/miniconda3/envs/bowen/lib/python3.7/site-packages/google/auth/_default.py:69: UserWarning: Your application has authenticated using end user credentials from Google Cloud SDK without a quota project. You might receive a \"quota exceeded\" or \"API not enabled\" error. We recommend you rerun `gcloud auth application-default login` and make sure a quota project is added. Or you can use service accounts instead. For more information about service accounts, see https://cloud.google.com/docs/authentication/\n",
      "  warnings.warn(_CLOUD_SDK_CREDENTIALS_WARNING)\n"
     ]
    }
   ],
   "source": [
    "from datasetinsights.io import create_downloader\n",
    "\n",
    "coco_cat_img_source_uri = \"gs://thea-dev/data/coco_cat/train2017.zip\"\n",
    "downloader = create_downloader(source_uri=coco_cat_img_source_uri)\n",
    "downloader.download(source_uri=coco_cat_img_source_uri, output=data_path)"
   ]
  },
  {
   "cell_type": "code",
   "execution_count": 4,
   "metadata": {},
   "outputs": [
    {
     "name": "stderr",
     "output_type": "stream",
     "text": [
      "/Users/bowen.li/miniconda3/envs/bowen/lib/python3.7/site-packages/google/auth/_default.py:69: UserWarning: Your application has authenticated using end user credentials from Google Cloud SDK without a quota project. You might receive a \"quota exceeded\" or \"API not enabled\" error. We recommend you rerun `gcloud auth application-default login` and make sure a quota project is added. Or you can use service accounts instead. For more information about service accounts, see https://cloud.google.com/docs/authentication/\n",
      "  warnings.warn(_CLOUD_SDK_CREDENTIALS_WARNING)\n",
      "/Users/bowen.li/miniconda3/envs/bowen/lib/python3.7/site-packages/google/auth/_default.py:69: UserWarning: Your application has authenticated using end user credentials from Google Cloud SDK without a quota project. You might receive a \"quota exceeded\" or \"API not enabled\" error. We recommend you rerun `gcloud auth application-default login` and make sure a quota project is added. Or you can use service accounts instead. For more information about service accounts, see https://cloud.google.com/docs/authentication/\n",
      "  warnings.warn(_CLOUD_SDK_CREDENTIALS_WARNING)\n"
     ]
    }
   ],
   "source": [
    "coco_cat_ann_source_uri = \"gs://thea-dev/data/coco_cat/annotations_trainval2017.zip\"\n",
    "downloader = create_downloader(source_uri=coco_cat_ann_source_uri)\n",
    "downloader.download(source_uri=coco_cat_ann_source_uri, output=data_path)"
   ]
  },
  {
   "cell_type": "markdown",
   "metadata": {},
   "source": [
    "Load UnityGroceries-Real [test](https://github.com/Unity-Technologies/SynthDet/blob/master/docs/Readme.md) split which has 254 images."
   ]
  },
  {
   "cell_type": "code",
   "execution_count": 2,
   "metadata": {},
   "outputs": [
    {
     "name": "stdout",
     "output_type": "stream",
     "text": [
      "loading annotations into memory...\n",
      "Done (t=0.10s)\n",
      "creating index...\n",
      "index created!\n"
     ]
    }
   ],
   "source": [
    "from datasetinsights.datasets import Dataset\n",
    "\n",
    "test_dataset = Dataset.create(\"CocoDetection\", data_path=data_path, split=\"train\")"
   ]
  },
  {
   "cell_type": "markdown",
   "metadata": {},
   "source": [
    "## Load Estimator\n",
    "An [estimator](https://datasetinsights.readthedocs.io/en/latest/datasetinsights.estimators.html#datasetinsights.estimators.base.Estimator) is a class of one modeling operation. It includes:\n",
    "\n",
    "1. input data and output data transformations (e.g. input image cropping, remove unused output labels…) when applicable. \n",
    "2. neural network graph (model) for either PyTorch or TensorFlow. \n",
    "3. procedures to execute model training and evaluation. <br>\n",
    "\n",
    "This cell will load an estimator specified in the variable name `checkpoint_file`."
   ]
  },
  {
   "cell_type": "code",
   "execution_count": 4,
   "metadata": {},
   "outputs": [
    {
     "name": "stderr",
     "output_type": "stream",
     "text": [
      "/Users/bowen.li/miniconda3/envs/bowen/lib/python3.7/site-packages/ipykernel/ipkernel.py:287: DeprecationWarning: `should_run_async` will not call `transform_cell` automatically in the future. Please pass the result to `transformed_cell` argument and any exception that happen during thetransform in `preprocessing_exc_tuple` in IPython 7.17 and above.\n",
      "  and should_run_async(code)\n",
      "/Users/bowen.li/miniconda3/envs/bowen/lib/python3.7/site-packages/google/auth/_default.py:69: UserWarning: Your application has authenticated using end user credentials from Google Cloud SDK without a quota project. You might receive a \"quota exceeded\" or \"API not enabled\" error. We recommend you rerun `gcloud auth application-default login` and make sure a quota project is added. Or you can use service accounts instead. For more information about service accounts, see https://cloud.google.com/docs/authentication/\n",
      "  warnings.warn(_CLOUD_SDK_CREDENTIALS_WARNING)\n",
      "/Users/bowen.li/miniconda3/envs/bowen/lib/python3.7/site-packages/google/auth/_default.py:69: UserWarning: Your application has authenticated using end user credentials from Google Cloud SDK without a quota project. You might receive a \"quota exceeded\" or \"API not enabled\" error. We recommend you rerun `gcloud auth application-default login` and make sure a quota project is added. Or you can use service accounts instead. For more information about service accounts, see https://cloud.google.com/docs/authentication/\n",
      "  warnings.warn(_CLOUD_SDK_CREDENTIALS_WARNING)\n"
     ]
    }
   ],
   "source": [
    "from yacs.config import CfgNode as CN\n",
    "from datasetinsights.estimators import create_estimator\n",
    "    \n",
    "config_yaml = \"\"\"\n",
    "    estimator: FasterRCNN\n",
    "    backbone: resnet50\n",
    "    num_classes: 2\n",
    "    task: object_detection\n",
    "    test:\n",
    "      batch_size: 8\n",
    "      dataset:\n",
    "        name: CocoDetection\n",
    "        args:\n",
    "          version: v3\n",
    "          split: test\n",
    "    metrics:\n",
    "      mean-average-precision:\n",
    "        name: MeanAveragePrecisionAverageOverIOU\n",
    "      mean-average-precision-iou50:\n",
    "        name: MeanAveragePrecisionIOU50\n",
    "      mean-average-recall:\n",
    "        name: MeanAverageRecallAverageOverIOU\n",
    "      average-precision-iou50:\n",
    "        name: AveragePrecisionIOU50\n",
    "    pretrained: False\n",
    "    pretrained_backbone: True\n",
    "    synchronize_metrics: True\n",
    "\"\"\"\n",
    "config = CN.load_cfg(config_yaml)\n",
    "estimator = create_estimator(\n",
    "    name=config.estimator,\n",
    "    config=config,\n",
    "    checkpoint_file=checkpoint_file,\n",
    ")"
   ]
  },
  {
   "cell_type": "markdown",
   "metadata": {},
   "source": [
    "## Prediction Visualization\n",
    "\n",
    "In order to improve visual inspection, we have color-coded bounding boxes predictions based on IOU value between prediction and ground truth bounding boxes. It is considered true positive if `IOU >= 0.5`. We only visualize prediction bounding box with `score >= 0.5`. \n",
    "\n",
    "- <font color='green'>Green boxes</font>: If the predicted bounding box can be matched to a ground truth bounding box. <br>\n",
    "- <font color='red'>Red boxes</font>: If the predicted bounding box can't be matched to a ground truth bounding box. <br>"
   ]
  },
  {
   "cell_type": "code",
   "execution_count": 5,
   "metadata": {},
   "outputs": [
    {
     "name": "stderr",
     "output_type": "stream",
     "text": [
      "/Users/bowen.li/miniconda3/envs/bowen/lib/python3.7/site-packages/ipykernel/ipkernel.py:287: DeprecationWarning: `should_run_async` will not call `transform_cell` automatically in the future. Please pass the result to `transformed_cell` argument and any exception that happen during thetransform in `preprocessing_exc_tuple` in IPython 7.17 and above.\n",
      "  and should_run_async(code)\n"
     ]
    }
   ],
   "source": [
    "from datasetinsights.stats.visualization import match_boxes, plot_bboxes, grid_plot\n",
    "\n",
    "def visualize_predictions(index=0):\n",
    "    \"\"\" Plot ground truth and prediction for one image.\n",
    "    \n",
    "    This method would plot two images: the ground truth is on the left;\n",
    "    the prediction from the loaded estimator is on the right.\n",
    "    \"\"\"\n",
    "    estimator.model.eval()\n",
    "    pil_image, gt_bboxes = test_dataset[index]\n",
    "    pred_bboxes = estimator.predict(pil_image, box_score_thresh=0.5)\n",
    "    colors = match_boxes(pred_bboxes, gt_bboxes)\n",
    "    gt_plot = plot_bboxes(pil_image, gt_bboxes, test_dataset.label_mappings)\n",
    "    pred_plot = plot_bboxes(pil_image, pred_bboxes, test_dataset.label_mappings, colors)\n",
    "    \n",
    "    titles = [\n",
    "        f\"ground truth for image index: {index}\",\n",
    "        f\"prediction for image index: {index}\",\n",
    "    ]\n",
    "    grid_plot([[gt_plot, pred_plot]], figsize=(7, 10), img_type=\"rgb\", titles=titles)"
   ]
  },
  {
   "cell_type": "code",
   "execution_count": 6,
   "metadata": {
    "scrolled": true
   },
   "outputs": [
    {
     "data": {
      "application/vnd.jupyter.widget-view+json": {
       "model_id": "2ea2cebdfa9146d293cd3e75a42b3416",
       "version_major": 2,
       "version_minor": 0
      },
      "text/plain": [
       "interactive(children=(Dropdown(description='index', options=(0, 1, 2, 3, 4, 5, 6, 7, 8, 9, 10, 11, 12, 13, 14,…"
      ]
     },
     "metadata": {},
     "output_type": "display_data"
    },
    {
     "data": {
      "text/plain": [
       "<function __main__.visualize_predictions(index=0)>"
      ]
     },
     "execution_count": 6,
     "metadata": {},
     "output_type": "execute_result"
    }
   ],
   "source": [
    "from ipywidgets import interact\n",
    "\n",
    "# switch to evaluation mode.\n",
    "estimator_eval = estimator.model.eval()\n",
    "# Please select an index of a image.\n",
    "interact(visualize_predictions, index=list(range(len(test_dataset))))"
   ]
  },
  {
   "cell_type": "markdown",
   "metadata": {},
   "source": [
    "## Estimator Performance\n",
    "This section calculates estimator performance on the UnityGroceries-Real Dataset test split. We report the following three evaluation metrics that are commonly used for object detection task:\n",
    "- [mAP](https://datasetinsights.readthedocs.io/en/latest/datasetinsights.evaluation_metrics.html#datasetinsights.evaluation_metrics.average_precision_2d.MeanAveragePrecisionAverageOverIOU): Average Precision average over all the labels and IOU thresholds = 0.5:0.95:0.05\n",
    "- [mAPIOU50](https://datasetinsights.readthedocs.io/en/latest/datasetinsights.evaluation_metrics.html#datasetinsights.evaluation_metrics.average_precision_2d.MeanAveragePrecisionIOU50): Mean Average Precision at IOU=50%.\n",
    "- [mAR](https://datasetinsights.readthedocs.io/en/latest/datasetinsights.evaluation_metrics.html#datasetinsights.evaluation_metrics.average_recall_2d.MeanAverageRecallAverageOverIOU): Average Recall average over all the labels and IOU thresholds = 0.5:0.95:0.05\n",
    "\n",
    "The next cell will take ~1 hour if you run model precision locally without GPU support. This will make predictions on the whole test set of 254 images. You can reduce computation time significantly on GPU with CUDA support."
   ]
  },
  {
   "cell_type": "code",
   "execution_count": null,
   "metadata": {},
   "outputs": [],
   "source": [
    "# This is expected to take a while\n",
    "estimator.evaluate(data_path)"
   ]
  },
  {
   "cell_type": "code",
   "execution_count": null,
   "metadata": {
    "scrolled": false
   },
   "outputs": [],
   "source": [
    "import pandas as pd\n",
    "\n",
    "metric_names = [\"mAP\", \"mAPIOU50\", \"mAR\"]\n",
    "metrics = estimator.metrics\n",
    "df = pd.DataFrame({\n",
    "    \"Value\": [metrics[name].compute() for name in metric_names],\n",
    "})\n",
    "df.index = metric_names\n",
    "df"
   ]
  }
 ],
 "metadata": {
  "kernelspec": {
   "display_name": "Python 3",
   "language": "python",
   "name": "python3"
  },
  "language_info": {
   "codemirror_mode": {
    "name": "ipython",
    "version": 3
   },
   "file_extension": ".py",
   "mimetype": "text/x-python",
   "name": "python",
   "nbconvert_exporter": "python",
   "pygments_lexer": "ipython3",
   "version": "3.7.6"
  }
 },
 "nbformat": 4,
 "nbformat_minor": 4
}
