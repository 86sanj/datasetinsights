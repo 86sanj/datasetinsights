{
 "cells": [
  {
   "cell_type": "markdown",
   "metadata": {},
   "source": [
    "# SynthDet Evaluation\n",
    "\n",
    "In this notebook, we provide the FasterRCNN estomator performance and visulaization for predictions on the test split of the [GroceriesReal](link to groceries real landing page) data. We support performance metrics (mAP, mAP@IOU50, mAR@100) as well as bounding box predictions rendered on the original image. This would provide a better understanding of the given estimator\n",
    "\n",
    "<!-- You can use this notebook by the following steps:\n",
    "- Specify the model path. Then, the notebook would load the checkpoints into a `FasterRCNN` estimator. The `FasterRCNN` can provide model predictions.\n",
    "- Provide the model performance metrics.\n",
    "- Can either specify or randomly select some cases for the visualization. -->\n",
    "\n",
    "\n",
    "## Settings\n",
    "\n",
    "- Point `data_root` below where you want to download the dataset. If you run this dataset inside a docker container, make sure you point this path to the directoy where the external volume is mounted for data storage. \n",
    "\n",
    "- Specify a pre-trained `checkpoint_file` that you want to use. You can use one of the estimator that we provided. Optionally, you can use estimators you have trained using our pre-compiled Kubeflow pipeline."
   ]
  },
  {
   "cell_type": "code",
   "execution_count": null,
   "metadata": {},
   "outputs": [],
   "source": [
    "import os\n",
    "# Specify data_root\n",
    "data_root = \"/data\"\n",
    "data_path = os.path.join(data_root, \"groceries\", \"v3\")\n",
    "\n",
    "# specify estimator path\n",
    "# 1. Real-trained estimator on 760 images\n",
    "# checkpoint_file = \"https://storage.googleapis.com/datasetinsights/models/Real-World/FasterRCNN.estimator\"\n",
    "\n",
    "# 2. Synth-trained estimator on 400K SynthDet dataset\n",
    "# checkpoint_file = \"https://storage.googleapis.com/datasetinsights/models/Synthetic/FasterRCNN.estimator\"\n",
    "\n",
    "# 3. Fine-tuned estimator (pre-trained on 400K Synthetic data and fine-tuned on 76 images)\n",
    "# checkpoint_file = \"https://storage.googleapis.com/datasetinsights/models/Synthetic-And-Real-World-76-images/FasterRCNN.estimator\"\n",
    "\n",
    "# 4. Fine-tuned estimator (pre-trained on 400K Synthetic data and fine-tuned on 380 images)\n",
    "# checkpoint_file = \"https://storage.googleapis.com/datasetinsights/models/Synthetic-And-Real-World-380-images/FasterRCNN.estimator\"\n",
    "\n",
    "# 5. Fine-tuned estimator (pre-trained on 400K Synthetic data and fine-tuned on 760 images)\n",
    "# This is the estimator that provide the best result.\n",
    "checkpoint_file = \"https://storage.googleapis.com/datasetinsights/models/Synthetic-And-Real-World-760-images/FasterRCNN.estimator\"\n",
    "\n",
    "# 6. Your estimator that was stored on GCS\n",
    "# TODO: Bowen will test if we can directly pull ffom GCS (it should work)\n",
    "# checkpoint_file = \"gs://\""
   ]
  },
  {
   "cell_type": "markdown",
   "metadata": {},
   "source": [
    "## Download GroceriesReal Dataset\n",
    "\n",
    "This cell will download public Groceries dataet to the location specified by data_path. You only need to run this cell once and assuming the dataset existis for subsecuence of the notebook execution. \n",
    "\n",
    "TODO: Bowen will change the dataset name `GroceriesReal` once we have nail down the name."
   ]
  },
  {
   "cell_type": "code",
   "execution_count": null,
   "metadata": {},
   "outputs": [],
   "source": [
    "# import os\n",
    "# from datasetinsights.io import create_downloader\n",
    "# groceries_real_source_uri = \"https://storage.googleapis.com/datasetinsights/data/groceries/v3.zip\"\n",
    "# downloader = create_downloader(source_uri=groceries_real_source_uri)\n",
    "# downloader.download(source_uri=groceries_real_source_uri, output=data_path, include_binary=True)"
   ]
  },
  {
   "cell_type": "markdown",
   "metadata": {},
   "source": [
    "## Load Estimator\n",
    "\n",
    "This cell will load an estimator specified in the variable name `checkpoint_file`."
   ]
  },
  {
   "cell_type": "code",
   "execution_count": null,
   "metadata": {},
   "outputs": [],
   "source": [
    "import tempfile\n",
    "from yacs.config import CfgNode as CN\n",
    "from datasetinsights.estimators import create_estimator\n",
    "    \n",
    "    \n",
    "def load_estimator(checkpoint_file):\n",
    "    config_yaml = \"\"\"\n",
    "        estimator: FasterRCNN\n",
    "        backbone: resnet50\n",
    "        num_classes: 64\n",
    "        task: object_detection\n",
    "        test:\n",
    "          batch_size: 8\n",
    "          dataset:\n",
    "            name: GroceriesReal\n",
    "            args:\n",
    "              version: v3\n",
    "              split: test\n",
    "        metrics:\n",
    "          mAP:\n",
    "            name: MeanAveragePrecisionAverageOverIOU\n",
    "          mAPIOU50:\n",
    "            name: MeanAveragePrecisionIOU50\n",
    "          mAR:\n",
    "            name: MeanAverageRecallAverageOverIOU\n",
    "        pretrained: False\n",
    "        pretrained_backbone: True\n",
    "        synchronize_metrics: True\n",
    "    \"\"\"\n",
    "\n",
    "    config = CN.load_cfg(config_yaml)\n",
    "\n",
    "    estimator = create_estimator(\n",
    "        name=config.estimator,\n",
    "        config=config,\n",
    "        checkpoint_dir = tempfile.TemporaryDirectory().name,\n",
    "        checkpoint_file=checkpoint_file,\n",
    "        kfp_metrics_dir = tempfile.TemporaryDirectory().name,\n",
    "    )\n",
    "\n",
    "    return estimator\n",
    "\n",
    "\n",
    "estimator = load_estimator(checkpoint_file)"
   ]
  },
  {
   "cell_type": "markdown",
   "metadata": {},
   "source": [
    "## Estimator Performance\n",
    "This section calcualtes estimator performance on GroceriesReal Dataset test split. We report the following three evaluation metrics that's commonly used for object detection task:\n",
    "- [mAP](https://datasetinsights.readthedocs.io/en/latest/datasetinsights.evaluation_metrics.html#datasetinsights.evaluation_metrics.average_precision_2d.MeanAveragePrecisionAverageOverIOU): Average Precision average over all labels and IOU thresholds = 0.5:0.95:0.05\n",
    "- [mAPIOU50](https://datasetinsights.readthedocs.io/en/latest/datasetinsights.evaluation_metrics.html#datasetinsights.evaluation_metrics.average_precision_2d.MeanAveragePrecisionIOU50): Mean Average Precision at IOU=50%.\n",
    "- [mAR](https://datasetinsights.readthedocs.io/en/latest/datasetinsights.evaluation_metrics.html#datasetinsights.evaluation_metrics.average_recall_2d.MeanAverageRecallAverageOverIOU): Average Recall average over all labels and IOU thresholds = 0.5:0.95:0.05\n",
    "\n",
    "The next cell will take ~1 hour if you run model precidtion locally without GPU support. This will make predictions on the whole test set of 254 images. You can reduce computation computation time significantly on GPU with CUDA support."
   ]
  },
  {
   "cell_type": "code",
   "execution_count": null,
   "metadata": {},
   "outputs": [],
   "source": [
    "# This is expected to take a while\n",
    "estimator.model.eval()\n",
    "estimator.evaluate(data_path)"
   ]
  },
  {
   "cell_type": "code",
   "execution_count": null,
   "metadata": {
    "scrolled": true
   },
   "outputs": [],
   "source": [
    "# Discuss if there are better way to present these numbers\n",
    "import pandas as pd\n",
    "\n",
    "metric_names = [\"mAP\", \"mAPIOU50\", \"mAR\"]\n",
    "metrics = estimator.metrics\n",
    "df = pd.DataFrame({\n",
    "    \"metric_name\": metric_names,\n",
    "    \"metric_value\": [metrics[name].compute() for name in metric_names]\n",
    "})\n",
    "df"
   ]
  },
  {
   "cell_type": "markdown",
   "metadata": {},
   "source": [
    "## Prediction Visualization\n",
    "\n",
    "In order to improve visual inspection, we have color coded boundnig boxes predictions based on IOU value between prediction and ground truth bounding boxes. It is considered true positive if `IOU >= 0.5`. We only visualize prediction bounding box with `score >= 0.5`. \n",
    "\n",
    "- <font color='green'>Green boxes</font>: If the predicted bounding box can be matched to a ground truth bounding boxes. <br>\n",
    "- <font color='red'>Red boxes</font>: If the predicted bounding box can't be matched to a ground truth bounding boxes. <br>"
   ]
  },
  {
   "cell_type": "code",
   "execution_count": null,
   "metadata": {},
   "outputs": [],
   "source": [
    "from datasetinsights.datasets import Dataset\n",
    "from datasetinsights.stats.visualization import match_boxes, plot_bboxes, grid_plot\n",
    "\n",
    "\n",
    "def visualize_predictions(estimator, dataset, index):\n",
    "    \"\"\" Add docstring for this method\n",
    "    \"\"\"\n",
    "    pil_image, gt_bboxes = dataset[index]\n",
    "    pred_bboxes = estimator.predict(pil_image, box_score_thresh=0.5)\n",
    "    colors = match_boxes(pred_bboxes, gt_bboxes)\n",
    "    gt_plot = plot_bboxes(pil_image, gt_bboxes, dataset.label_mappings)\n",
    "    pred_plot = plot_bboxes(pil_image, pred_bboxes, dataset.label_mappings, colors)\n",
    "    \n",
    "    titles = [\n",
    "        f\"ground truth for image index: {index + 1}\",\n",
    "        f\"prediction for image index: {index + 1}\",\n",
    "    ]\n",
    "    grid_plot([[gt_plot, pred_plot]], figsize=(7, 10), img_type=\"rgb\", titles=titles)\n",
    "\n",
    "test_dataset = Dataset.create(\"GroceriesReal\", data_path=data_path, split=\"test\")"
   ]
  },
  {
   "cell_type": "code",
   "execution_count": null,
   "metadata": {
    "scrolled": true
   },
   "outputs": [],
   "source": [
    "import random\n",
    "# Pick a random index\n",
    "index = random.randrange(len(test_dataset))\n",
    "visualize_predictions(estimator, test_dataset, index)"
   ]
  },
  {
   "cell_type": "code",
   "execution_count": null,
   "metadata": {},
   "outputs": [],
   "source": []
  }
 ],
 "metadata": {
  "kernelspec": {
   "display_name": "Python 3",
   "language": "python",
   "name": "python3"
  },
  "language_info": {
   "codemirror_mode": {
    "name": "ipython",
    "version": 3
   },
   "file_extension": ".py",
   "mimetype": "text/x-python",
   "name": "python",
   "nbconvert_exporter": "python",
   "pygments_lexer": "ipython3",
   "version": "3.7.6"
  }
 },
 "nbformat": 4,
 "nbformat_minor": 4
}
