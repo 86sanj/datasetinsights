{
 "cells": [
  {
   "cell_type": "markdown",
   "metadata": {},
   "source": [
    "# Model Performance Statistics\n",
    "This example notebook shows statistics, including box plots, mean and variance, for model performance. You can run an experimnet multiple times and use this notebook to analyze the metrics results distribution."
   ]
  },
  {
   "cell_type": "markdown",
   "metadata": {},
   "source": [
    "## Specify model performance\n",
    "You can train models multiple times (say 10 times) using the same Synthetic data. And copy model performances down below. For each metric, you can copy metric value into a list (Each column represents metric value for one run).\n",
    "1. In the baseline performance session, copy the baseline model performance.\n",
    "2. In the new performance session, copy the model you want to compare."
   ]
  },
  {
   "cell_type": "code",
   "execution_count": null,
   "metadata": {},
   "outputs": [],
   "source": [
    "# baseline performance\n",
    "mean_ap_base = [0.032, 0.045, 0.120, 0.036, 0.110]\n",
    "mean_ap_50_base = [0.051, 0.100, 0.331, 0.074, 0.263]\n",
    "mean_ar_base = [0.068, 0.078, 0.229, 0.068, 0.222]\n",
    "\n",
    "# new performance\n",
    "mean_ap_new = [0.031,0.031,0.030,0.072,0.041,0.028,0.027,0.040,0.044,0.020]\n",
    "mean_ap_50_new = [0.064,0.066,0.068,0.189,0.095,0.066,0.062,0.112,0.098,0.053]\n",
    "mean_ar_new = [0.095,0.094,0.122,0.237,0.145,0.147,0.110,0.163,0.128,0.048]"
   ]
  },
  {
   "cell_type": "markdown",
   "metadata": {},
   "source": [
    "## Baseline model statistics"
   ]
  },
  {
   "cell_type": "code",
   "execution_count": null,
   "metadata": {},
   "outputs": [],
   "source": [
    "import pandas as pd\n",
    "\n",
    "mAP_base = pd.Series(mean_ap_base)\n",
    "print(\"mAP for baseline model:\")\n",
    "print(mAP_base.describe())\n",
    "mAP50_base = pd.Series(mean_ap_50_base)\n",
    "print(\"mAP@50 for baseline model:\")\n",
    "print(mAP50_base.describe())\n",
    "mAR_base = pd.Series(mean_ar_base)\n",
    "print(\"mAR for baseline model:\")\n",
    "print(mAR_base.describe())"
   ]
  },
  {
   "cell_type": "markdown",
   "metadata": {},
   "source": [
    "## New model statistics"
   ]
  },
  {
   "cell_type": "code",
   "execution_count": null,
   "metadata": {},
   "outputs": [],
   "source": [
    "mAP_new = pd.Series(mean_ap_new)\n",
    "print(\"mAP for new model:\")\n",
    "print(mAP_new.describe())\n",
    "mAP50_new = pd.Series(mean_ap_50_new)\n",
    "print(\"mAP@50 for new model:\")\n",
    "print(mAP50_new.describe())\n",
    "mAR_new = pd.Series(mean_ar_new)\n",
    "print(\"mAR for new model:\")\n",
    "print(mAR_new.describe())"
   ]
  },
  {
   "cell_type": "markdown",
   "metadata": {},
   "source": [
    "## Model performance comparison\n",
    "In this part, box plots for two model performances would be displayed."
   ]
  },
  {
   "cell_type": "code",
   "execution_count": null,
   "metadata": {},
   "outputs": [],
   "source": [
    "import plotly.graph_objects as go\n",
    "\n",
    "columns = [\"performance\", \"metrics_type\"]\n",
    "def performance_plot(mean_ap_base, mean_ap_50_base, mean_ar_base, mean_ap_new, mean_ap_50_new, mean_ar_new):\n",
    "    fig = go.Figure(layout=go.Layout(title=go.layout.Title(text=\"Baseline model vs New model\")))\n",
    "    fig.add_trace(go.Box(y=mean_ap_base, name='mAP_base', marker_color = 'indianred'))\n",
    "    fig.add_trace(go.Box(y=mean_ap_new, name = 'mAP_new', marker_color = 'lightseagreen'))\n",
    "    fig.add_trace(go.Box(y=mean_ap_50_base, name='mAP@50_base', marker_color = 'indianred'))\n",
    "    fig.add_trace(go.Box(y=mean_ap_50_new, name = 'mAP@50_new', marker_color = 'lightseagreen'))\n",
    "    fig.add_trace(go.Box(y=mean_ar_base, name='mAR_base', marker_color = 'indianred'))\n",
    "    fig.add_trace(go.Box(y=mean_ar_new, name = 'mAR_new', marker_color = 'lightseagreen'))\n",
    "    return fig"
   ]
  },
  {
   "cell_type": "code",
   "execution_count": null,
   "metadata": {},
   "outputs": [],
   "source": [
    "fig = performance_plot(mean_ap_base, mean_ap_50_base, mean_ar_base, mean_ap_new, mean_ap_50_new, mean_ar_new)\n",
    "fig.show()"
   ]
  },
  {
   "cell_type": "code",
   "execution_count": null,
   "metadata": {},
   "outputs": [],
   "source": []
  }
 ],
 "metadata": {
  "kernelspec": {
   "display_name": "Python 3",
   "language": "python",
   "name": "python3"
  },
  "language_info": {
   "codemirror_mode": {
    "name": "ipython",
    "version": 3
   },
   "file_extension": ".py",
   "mimetype": "text/x-python",
   "name": "python",
   "nbconvert_exporter": "python",
   "pygments_lexer": "ipython3",
   "version": "3.7.6"
  }
 },
 "nbformat": 4,
 "nbformat_minor": 4
}
